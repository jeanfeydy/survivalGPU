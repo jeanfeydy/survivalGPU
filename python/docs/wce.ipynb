{
 "cells": [
  {
   "cell_type": "markdown",
   "metadata": {},
   "source": [
    "# WCE\n",
    "\n",
    "## Principles of the WCE model \n",
    "\n",
    "The WCE model is a method used to study the effect of time-dependant exposures where the exposure status and its intensity varies over time. It is based on the notion of cumulated exposure and use convolutions to assign weights of varying intensity to time of past exposure. For a cohort of individuals with each an intensity of dose of a drug X(t), the joint effect of the past exposure is represented as : \n",
    "\n",
    "$$\n",
    "\\sum_{t=1}^{u} w(u-t) x(t)\n",
    "$$\n",
    "\n",
    "This represent the WCE function, giving weights to the effect of a drug, or any other exposition of varying intensity. \n",
    "\n",
    "$$\n",
    "h(u \\mid \\mathbf{X}(u), Z(u)) = h_0(u) \\exp \\left[ \\sum_{j=1}^{m} \\gamma_j D_j(u) + \\sum_{s=1}^{q} \\eta_s Z_s(u) \\right]\n",
    "$$"
   ]
  },
  {
   "cell_type": "markdown",
   "metadata": {},
   "source": [
    "## Connecting to the survivalGPU library\n",
    "\n"
   ]
  },
  {
   "cell_type": "code",
   "execution_count": 1,
   "metadata": {},
   "outputs": [
    {
     "name": "stdout",
     "output_type": "stream",
     "text": [
      "[KeOps] Warning : Cuda libraries were not detected on the system or could not be loaded ; using cpu only mode\n"
     ]
    },
    {
     "data": {
      "text/plain": [
       "'/home/dev/survivalGPU/python'"
      ]
     },
     "execution_count": 1,
     "metadata": {},
     "output_type": "execute_result"
    }
   ],
   "source": [
    "import torch\n",
    "import os\n",
    "import sys\n",
    "import pykeops\n",
    "import numpy as np\n",
    "import pykeops\n",
    "\n",
    "sys.path.append(\"dev/survivalGPU/python\")\n",
    "\n",
    "os.getcwd()\n"
   ]
  },
  {
   "cell_type": "markdown",
   "metadata": {},
   "source": [
    "## The WCE model on survivalGPU\n",
    "\n",
    "**wce_R** : the function to run the WCE model on the data\n",
    "\n",
    "----\n",
    "\n",
    "**Args**\n",
    "\n",
    "- **data** : Dataframe, it contain the data analyzed by the model. It need to be a time dependant dataframe where each line correspond to one and only one interval of time\n",
    "\n",
    "- **covars** : (Optional) Vector of strings, the names of the columns in the dataframe data containing values taken by covariates which effect are not simulated by a cumulated exposure\n",
    "\n",
    "- **ids** : a string, the name of column in the dataframe data containing the indexes allowing the identification of the subjects \n",
    "\n",
    "- **stop** : a string,  the name of column in the dataframe data containing the time at the end of each line\n",
    "\n",
    "- **doses** : a string,  the name of column in the dataframe data containing the dose of the variable which effect is represented by a cumulative exposure\n",
    "\n",
    "- **events** : a string,  the name of column in the dataframe data containing 0 if there is no event during a time interval and 1 if there is an event\n",
    "\n",
    "- **cutoff** : Integer, the time window on which the WCE model is estimated, correspond to the length of the estimated weight function\n",
    "\n",
    "- **nknots** : Integer, the number of interior knots for the cubic spline to estimate the weight function\n",
    "\n",
    "- **constrained** : Control whether the weight function should be constrained to smoothly go to 0, Set to False for unconstrained model, to \"Right\" or \"R\" to constrained the wight function to tend smoothly to zero for exposure remote in time, and \"Left\" of \"L\" to constrained the weight function to start at zero for the current value\n",
    "\n",
    "- **bootstraps** : (Optional) Integer, the number of bootstraps used in the model\n",
    "\n",
    "- **batchsize** : (Optional) Integer, only if there is bootstraps, mus be proportional to the number of bootstraps, describe the batchsize of the number of bootstraps that are parallelized on a GPU. It speed up the computation time but for a large number of patients the batchsize must be reduced in order to avoid out of memory errors. The default value is 0, it means that all bootstraps are handled at once\n",
    "\n",
    "----\n",
    "\n",
    "**Returns**\n",
    "\n",
    "A dictionary wth the following values \n",
    "If there are bootstraps the values are given in the form of a list of the result for every bootstrap\n",
    "\n",
    "- **hessian** : list that represents, for each bootstrap, the Hessian of the neg-log-likelihood at the optimum \n",
    "\n",
    "- **sctest init** :  tensor of values of the score test at iteration 0\n",
    "\n",
    "- **loglik init** :  tensor of values of the log-likelihood at iteration 0.\n",
    "\n",
    "- **lolik** :  tensor of values of the log-likelihood at the optimum\n",
    "\n",
    "- **coef** : List of the estimated coefficients for the artificial time dependant variables used to fit the WCE model\n",
    "\n",
    "- **u** : tensor of gradients of the log-likelihood at the optimum (should be close to zero)\n",
    "\n",
    "- **imat** : tensor that represents, for each bootstrap, the inverse of the Hessian above. This corresponds to an estimated variance matrix for the optimal coefficients\n",
    "\n",
    "- **means** : means of all the covariates, and of the artificial time dependant variables used to fit the WCE model\n",
    "\n",
    "- **knotsmat** : The vector of knots used for the spline modelling of the weight function (not a matrix in this implementation as only one knot can be selected, not given for every bootstraps as it is modelled only one time in the current implementation)\n",
    "\n",
    "- **std** : List of the estimated Standard Error of Difference of the covariates that are not simulated by the WCE\n",
    "\n",
    "- **SED** : List of the estimated Standard Error of Difference of the artificial time dependant variables used to fit the WCE model\n",
    "\n",
    "- **WCEmat** : The list of the the values taken by the wight function\n",
    "\n",
    "- **est** : List of the estimated coefficients for the artificial time dependant variables used to fit the WCE model\n",
    "\n",
    "- **vcovmat** : List of the variance covariance matrix estimated ???\n",
    "\n",
    "\n",
    "covariate stuff\n",
    "\n",
    "\n",
    "## Lacking in results \n",
    "\n",
    "- info.criterion : values of the AIC and BIC\n",
    "- nevent : number of events \n",
    "\n",
    "## Duplicate keys\n",
    "\n",
    "coef and est \n",
    "imat and vcovmat\n",
    "\n",
    "\n",
    "\n"
   ]
  },
  {
   "cell_type": "code",
   "execution_count": 2,
   "metadata": {},
   "outputs": [
    {
     "ename": "NameError",
     "evalue": "name 'result' is not defined",
     "output_type": "error",
     "traceback": [
      "\u001b[0;31m---------------------------------------------------------------------------\u001b[0m",
      "\u001b[0;31mNameError\u001b[0m                                 Traceback (most recent call last)",
      "Cell \u001b[0;32mIn[2], line 1\u001b[0m\n\u001b[0;32m----> 1\u001b[0m \u001b[38;5;28mprint\u001b[39m(result[\u001b[38;5;124m\"\u001b[39m\u001b[38;5;124mmeans\u001b[39m\u001b[38;5;124m\"\u001b[39m])\n",
      "\u001b[0;31mNameError\u001b[0m: name 'result' is not defined"
     ]
    }
   ],
   "source": [
    "print(result[\"means\"])\n",
    "\n"
   ]
  },
  {
   "cell_type": "code",
   "execution_count": 20,
   "metadata": {},
   "outputs": [
    {
     "name": "stdout",
     "output_type": "stream",
     "text": [
      "[]\n"
     ]
    }
   ],
   "source": [
    "print(result[\"std\"])\n"
   ]
  },
  {
   "cell_type": "code",
   "execution_count": 19,
   "metadata": {},
   "outputs": [
    {
     "name": "stdout",
     "output_type": "stream",
     "text": [
      "dict_keys(['hessian', 'sctest init', 'loglik init', 'loglik', 'coef', 'u', 'imat', 'means', 'knotsmat', 'std', 'SED', 'WCEmat', 'est', 'vcovmat'])\n"
     ]
    }
   ],
   "source": [
    "print(result.keys())"
   ]
  },
  {
   "cell_type": "markdown",
   "metadata": {},
   "source": []
  },
  {
   "cell_type": "code",
   "execution_count": 1,
   "metadata": {},
   "outputs": [
    {
     "ename": "ModuleNotFoundError",
     "evalue": "No module named 'survivalgpu'",
     "output_type": "error",
     "traceback": [
      "\u001b[0;31m---------------------------------------------------------------------------\u001b[0m",
      "\u001b[0;31mModuleNotFoundError\u001b[0m                       Traceback (most recent call last)",
      "Cell \u001b[0;32mIn[1], line 1\u001b[0m\n\u001b[0;32m----> 1\u001b[0m \u001b[38;5;28;01mfrom\u001b[39;00m \u001b[38;5;21;01msurvivalgpu\u001b[39;00m\u001b[38;5;21;01m.\u001b[39;00m\u001b[38;5;21;01msimulation\u001b[39;00m \u001b[38;5;28;01mimport\u001b[39;00m simulate_dataset\n\u001b[1;32m      3\u001b[0m dataset \u001b[38;5;241m=\u001b[39m simulate_dataset(max_time \u001b[38;5;241m=\u001b[39m \u001b[38;5;241m365\u001b[39m, n_patients \u001b[38;5;241m=\u001b[39m \u001b[38;5;241m500\u001b[39m, doses \u001b[38;5;241m=\u001b[39m [\u001b[38;5;241m1\u001b[39m,\u001b[38;5;241m1.5\u001b[39m,\u001b[38;5;241m2\u001b[39m,\u001b[38;5;241m2.5\u001b[39m,\u001b[38;5;241m4\u001b[39m], \n\u001b[1;32m      4\u001b[0m                            scenario \u001b[38;5;241m=\u001b[39m \u001b[38;5;124m\"\u001b[39m\u001b[38;5;124mexponential_scenario\u001b[39m\u001b[38;5;124m\"\u001b[39m, HR_target \u001b[38;5;241m=\u001b[39m \u001b[38;5;241m1.5\u001b[39m)\n",
      "\u001b[0;31mModuleNotFoundError\u001b[0m: No module named 'survivalgpu'"
     ]
    }
   ],
   "source": [
    "from survivalgpu.simulation import simulate_dataset\n",
    "\n",
    "dataset = simulate_dataset(max_time = 365, n_patients = 500, doses = [1,1.5,2,2.5,4], \n",
    "                           scenario = \"exponential_scenario\", HR_target = 1.5)\n"
   ]
  },
  {
   "cell_type": "code",
   "execution_count": 172,
   "metadata": {},
   "outputs": [
    {
     "name": "stdout",
     "output_type": "stream",
     "text": [
      "Index(['patients', 'start', 'stop', 'events', 'doses'], dtype='object')\n",
      "dict_keys(['hessian', 'sctest init', 'loglik init', 'loglik', 'coef', 'u', 'imat', 'means', 'knotsmat', 'std', 'SED', 'WCEmat', 'est', 'vcovmat'])\n"
     ]
    }
   ],
   "source": [
    "from survivalgpu.wce import wce_R\n",
    "from survivalgpu.utils import device, float32, int32, int64\n",
    "\n",
    "# Simulate a dataset for testing\n",
    "\n",
    "\n",
    "\n",
    "print(dataset.keys())\n",
    "\n",
    "\n",
    "nknots = 1\n",
    "batchsize = 100\n",
    "n_bootsraps = 100\n",
    "constraint = \"Right\"\n",
    "cutoff = 180\n",
    "\n",
    "# result = wce_torch(ids = patient, doses = doses, events = events, times = start,\n",
    "#                           cutoff = cutoff, nknots = nknots,covariates = None, \n",
    "#                           batchsize = batchsize, bootstrap = n_bootsraps, constrained = constraint,\n",
    "#                           verbosity = 0\n",
    "#                           )\n",
    "\n",
    "result = wce_R(data= dataset, \n",
    "               ids = \"patients\", \n",
    "               covars = None,\n",
    "               stop = \"stop\",\n",
    "               doses = \"doses\", \n",
    "               events = \"events\",\n",
    "               cutoff = 180,\n",
    "               nknots = 1,\n",
    "               constrained = \"Right\",\n",
    "               batchsize = 100,\n",
    "               bootstrap = 100,\n",
    "               verbosity = )\n",
    "\n",
    "print(result.keys())\n",
    "\n"
   ]
  },
  {
   "cell_type": "code",
   "execution_count": 181,
   "metadata": {},
   "outputs": [
    {
     "name": "stdout",
     "output_type": "stream",
     "text": [
      "(100, 180)\n",
      "[ 3.8135964e-03  3.8472642e-03  3.8761706e-03  3.9004041e-03\n",
      "  3.9200541e-03  3.9352109e-03  3.9459625e-03  3.9523989e-03\n",
      "  3.9546089e-03  3.9526834e-03  3.9467094e-03  3.9367783e-03\n",
      "  3.9229770e-03  3.9053969e-03  3.8841267e-03  3.8592564e-03\n",
      "  3.8308734e-03  3.7990687e-03  3.7639309e-03  3.7255497e-03\n",
      "  3.6840136e-03  3.6394128e-03  3.5918367e-03  3.5413734e-03\n",
      "  3.4881141e-03  3.4321458e-03  3.3735600e-03  3.3124445e-03\n",
      "  3.2488892e-03  3.1829833e-03  3.1148167e-03  3.0444774e-03\n",
      "  2.9720559e-03  2.8976405e-03  2.8213221e-03  2.7431883e-03\n",
      "  2.6633292e-03  2.5818339e-03  2.4987923e-03  2.4142927e-03\n",
      "  2.3284249e-03  2.2412781e-03  2.1529426e-03  2.0635058e-03\n",
      "  1.9730586e-03  1.8816900e-03  1.7894886e-03  1.6965439e-03\n",
      "  1.6029464e-03  1.5087835e-03  1.4141464e-03  1.3191232e-03\n",
      "  1.2238031e-03  1.1282763e-03  1.0326314e-03  9.3695847e-04\n",
      "  8.4134564e-04  7.4588298e-04  6.5065990e-04  5.5576488e-04\n",
      "  4.6128849e-04  3.6731898e-04  2.7394621e-04  1.8125935e-04\n",
      "  8.9347595e-05 -1.6991980e-06 -9.1792550e-05 -1.8084329e-04\n",
      " -2.6876084e-04 -3.5545719e-04 -4.4084201e-04 -5.2482705e-04\n",
      " -6.0732197e-04 -6.8823784e-04 -7.6748617e-04 -8.4497570e-04\n",
      " -9.2061900e-04 -9.9432655e-04 -1.0660078e-03 -1.1355748e-03\n",
      " -1.2029374e-03 -1.2680069e-03 -1.3306935e-03 -1.3909079e-03\n",
      " -1.4485613e-03 -1.5035636e-03 -1.5558264e-03 -1.6052600e-03\n",
      " -1.6517743e-03 -1.6952812e-03 -1.7357157e-03 -1.7731108e-03\n",
      " -1.8075249e-03 -1.8390170e-03 -1.8676446e-03 -1.8934661e-03\n",
      " -1.9165390e-03 -1.9369225e-03 -1.9546747e-03 -1.9698532e-03\n",
      " -1.9825164e-03 -1.9927230e-03 -2.0005300e-03 -2.0059971e-03\n",
      " -2.0091815e-03 -2.0101420e-03 -2.0089359e-03 -2.0056223e-03\n",
      " -2.0002592e-03 -1.9929046e-03 -1.9836170e-03 -1.9724539e-03\n",
      " -1.9594738e-03 -1.9447360e-03 -1.9282971e-03 -1.9102163e-03\n",
      " -1.8905512e-03 -1.8693602e-03 -1.8467018e-03 -1.8226341e-03\n",
      " -1.7972146e-03 -1.7705028e-03 -1.7425553e-03 -1.7134320e-03\n",
      " -1.6831898e-03 -1.6518877e-03 -1.6195830e-03 -1.5863347e-03\n",
      " -1.5522010e-03 -1.5172398e-03 -1.4815091e-03 -1.4450673e-03\n",
      " -1.4079728e-03 -1.3702839e-03 -1.3320581e-03 -1.2933542e-03\n",
      " -1.2542302e-03 -1.2147444e-03 -1.1749553e-03 -1.1349201e-03\n",
      " -1.0946980e-03 -1.0543467e-03 -1.0139245e-03 -9.7348966e-04\n",
      " -9.3310041e-04 -8.9281477e-04 -8.5269107e-04 -8.1278762e-04\n",
      " -7.7316258e-04 -7.3387369e-04 -6.9497980e-04 -6.5653864e-04\n",
      " -6.1860861e-04 -5.8124820e-04 -5.4451497e-04 -5.0846743e-04\n",
      " -4.7316391e-04 -4.3866245e-04 -4.0502151e-04 -3.7229879e-04\n",
      " -3.4055288e-04 -3.0984182e-04 -2.8022387e-04 -2.5175730e-04\n",
      " -2.2450011e-04 -1.9851064e-04 -1.7384705e-04 -1.5056753e-04\n",
      " -1.2873042e-04 -1.0839370e-04 -8.9615663e-05 -7.2454473e-05\n",
      " -5.6968398e-05 -4.3215648e-05 -3.1254323e-05 -2.1142652e-05\n",
      " -1.2938877e-05 -6.7011733e-06 -2.4877522e-06 -3.5677840e-07]\n"
     ]
    }
   ],
   "source": [
    "WCEmat = result[\"WCEmat\"]\n",
    "print(WCEmat.shape)\n",
    "print(WCEmat[99])"
   ]
  },
  {
   "cell_type": "code",
   "execution_count": 177,
   "metadata": {},
   "outputs": [
    {
     "name": "stdout",
     "output_type": "stream",
     "text": [
      "[1.142950846179136, 0.875725118113903, 1.5188766377961902]\n"
     ]
    }
   ],
   "source": [
    "vecnum = np.ones(cutoff)\n",
    "vecdenom = np.zeros(cutoff)\n",
    "print(HR(result, vecnum, vecdenom))\n"
   ]
  },
  {
   "cell_type": "code",
   "execution_count": 145,
   "metadata": {},
   "outputs": [
    {
     "name": "stdout",
     "output_type": "stream",
     "text": [
      "Index(['patients', 'start', 'stop', 'events', 'doses'], dtype='object')\n",
      "Step 1 : Computing the WCE features... Done in 0.078s.\n",
      "\n",
      "Step 2 : CoxPH regression... \n",
      "Pre-processing:\n",
      "Working with 1 bootstrap, 1 channels, 234 death times,\n",
      "52,827 rows (= observations) and 4 columns (= features).\n",
      "\n",
      "Iteration   1 -- inf\n",
      "Iteration   2 -- 1.902698e+03\n",
      "Iteration   3 -- 1.898155e+03\n",
      "Iteration   4 -- 1.898134e+03\n",
      "Iteration   5 -- 1.898134e+03\n",
      "Iteration   6 -- 1.898134e+03\n",
      "Iteration   7 -- 1.898134e+03\n",
      "Iteration   8 -- 1.898134e+03\n",
      "Iteration   9 -- 1.898134e+03\n",
      "Iteration  10 -- 1.898134e+03\n",
      "Iteration  11 -- 1.898134e+03\n",
      "Iteration  12 -- 1.898134e+03\n",
      "Iteration  13 -- 1.898134e+03\n",
      "Iteration  14 -- 1.898134e+03\n",
      "Iteration  15 -- 1.898134e+03\n",
      "Iteration  16 -- 1.898134e+03\n",
      "Iteration  17 -- 1.898134e+03\n",
      "Iteration  18 -- 1.898134e+03\n",
      "Iteration  19 -- 1.898134e+03\n",
      "Iteration  20 -- 1.898134e+03\n",
      "Done in 0.239s.\n",
      "\n",
      "Step 3 : Post-processing... Done in 0.001s.\n",
      "\n",
      "Step 1 : Computing the WCE features... Done in 0.078s.\n",
      "\n",
      "Step 2 : CoxPH regression... \n",
      "Pre-processing:\n",
      "Working with 100 bootstrap, 1 channels, 234 death times,\n",
      "52,827 rows (= observations) and 4 columns (= features).\n",
      "\n",
      "Iteration   1 -- inf\n",
      "Iteration   2 -- 1.902698e+03\n",
      "Iteration   3 -- 1.898155e+03\n",
      "Iteration   4 -- 1.898134e+03\n",
      "Iteration   5 -- 1.898134e+03\n",
      "Iteration   6 -- 1.898134e+03\n",
      "Iteration   7 -- 1.898134e+03\n",
      "Iteration   8 -- 1.898134e+03\n",
      "Iteration   9 -- 1.898134e+03\n",
      "Iteration  10 -- 1.898134e+03\n",
      "Iteration  11 -- 1.898134e+03\n",
      "Iteration  12 -- 1.898134e+03\n",
      "Iteration  13 -- 1.898134e+03\n",
      "Iteration  14 -- 1.898134e+03\n",
      "Iteration  15 -- 1.898134e+03\n",
      "Iteration  16 -- 1.898134e+03\n",
      "Iteration  17 -- 1.898134e+03\n",
      "Iteration  18 -- 1.898134e+03\n",
      "Iteration  19 -- 1.898134e+03\n",
      "Iteration  20 -- 1.898134e+03\n",
      "Done in 8.565s.\n",
      "\n",
      "Step 3 : Post-processing... Done in 0.001s.\n",
      "\n"
     ]
    }
   ],
   "source": [
    "from survivalgpu.wce import wce_R\n",
    "from survivalgpu.utils import device, float32, int32, int64\n",
    "\n",
    "# Simulate a dataset for testing\n",
    "\n",
    "\n",
    "\n",
    "print(dataset.keys())\n",
    "\n",
    "\n",
    "nknots = 1\n",
    "batchsize = 100\n",
    "n_bootsraps = 100\n",
    "constraint = \"Right\"\n",
    "cutoff = 180\n",
    "\n",
    "# result = wce_torch(ids = patient, doses = doses, events = events, times = start,\n",
    "#                           cutoff = cutoff, nknots = nknots,covariates = None, \n",
    "#                           batchsize = batchsize, bootstrap = n_bootsraps, constrained = constraint,\n",
    "#                           verbosity = 0\n",
    "#                           )\n",
    "\n",
    "dataset = simulate_dataset(max_time = 365, n_patients = 500, doses = [1,1.5,2,2.5,4], \n",
    "                           scenario = \"exponential_scenario\", HR_target = 1.5)\n",
    "\n",
    "result_1 = wce_R(data= dataset, \n",
    "               ids = \"patients\", \n",
    "               covars = None,\n",
    "               stop = \"stop\",\n",
    "               doses = \"doses\", \n",
    "               events = \"events\",\n",
    "               cutoff = 180,\n",
    "               nknots = 2,\n",
    "               constrained = \"Right\")\n",
    "\n",
    "\n",
    "\n",
    "\n",
    "result_2 = wce_R(data= dataset, \n",
    "               ids = \"patients\", \n",
    "               covars = None,\n",
    "               stop = \"stop\",\n",
    "               doses = \"doses\", \n",
    "               events = \"events\",\n",
    "               cutoff = 180,\n",
    "               nknots = 2,\n",
    "               constrained = \"Right\",\n",
    "               bootstrap = 100,\n",
    "               batchsize = 100)\n",
    "\n"
   ]
  },
  {
   "cell_type": "code",
   "execution_count": 141,
   "metadata": {},
   "outputs": [
    {
     "name": "stdout",
     "output_type": "stream",
     "text": [
      "[1.0389722771891958]\n",
      "[1.0389807198288434, 0.7930626802409774, 1.3840736505070936]\n"
     ]
    }
   ],
   "source": [
    "vecnum = np.ones(cutoff)\n",
    "vecdenom = np.zeros(cutoff)\n",
    "print(HR(result_1, vecnum, vecdenom))\n",
    "print(HR(result_2, vecnum, vecdenom))\n"
   ]
  },
  {
   "cell_type": "code",
   "execution_count": 117,
   "metadata": {},
   "outputs": [
    {
     "name": "stdout",
     "output_type": "stream",
     "text": [
      "[1.109380481333915]\n"
     ]
    }
   ],
   "source": [
    "\n",
    "vecnum = np.ones(cutoff)\n",
    "vecdenom = np.zeros(cutoff)\n",
    "print(HR(result, vecnum, vecdenom))"
   ]
  },
  {
   "cell_type": "markdown",
   "metadata": {},
   "source": [
    "print(result.keys())\n"
   ]
  },
  {
   "cell_type": "markdown",
   "metadata": {},
   "source": [
    "## Plotting the WCE function \n",
    "\n",
    "We can plot the wce function in order to verify if the simulation make sens \n",
    "\n"
   ]
  },
  {
   "cell_type": "code",
   "execution_count": 156,
   "metadata": {},
   "outputs": [
    {
     "data": {
      "text/plain": [
       "<matplotlib.legend.Legend at 0x72cfd1035d10>"
      ]
     },
     "execution_count": 156,
     "metadata": {},
     "output_type": "execute_result"
    },
    {
     "data": {
      "image/png": "[encoded data removed]",
      "text/plain": [
       "<Figure size 640x480 with 1 Axes>"
      ]
     },
     "metadata": {},
     "output_type": "display_data"
    }
   ],
   "source": [
    "from matplotlib import pyplot as plt\n",
    "from survivalgpu.simulation import get_scenario\n",
    "import numpy as np\n",
    "\n",
    "\n",
    "# get quantiles each column WCEmat\n",
    "\n",
    "HR_target = 3\n",
    "\n",
    "WCEmat = result[\"WCEmat\"] /np.log(HR_target)\n",
    "scenario_shape = get_scenario(\"exponential_scenario\",365)[:180] \n",
    "\n",
    "quantiles = np.quantile(WCEmat, [0.025, 0.975], axis = 0)\n",
    "plt.plot(np.arange(0, 180),WCEmat[0], c = \"black\", label = \"calculated WCE function\")\n",
    "plt.plot(np.arange(0, 180),quantiles[0], c = \"black\", linestyle = \"--\")\n",
    "plt.plot(np.arange(0, 180),quantiles[1], c = \"black\", linestyle = \"--\")\n",
    "plt.plot((np.arange(0, 180)),scenario_shape[:180], c = \"red\", label = \"scenario shape\")\n",
    "plt.legend()\n"
   ]
  },
  {
   "cell_type": "code",
   "execution_count": 49,
   "metadata": {},
   "outputs": [
    {
     "name": "stdout",
     "output_type": "stream",
     "text": [
      "100\n"
     ]
    }
   ],
   "source": [
    "\n",
    "WCEmat = result[\"WCEmat\"]\n",
    "print(WCEmat.shape[0])"
   ]
  },
  {
   "cell_type": "code",
   "execution_count": 54,
   "metadata": {},
   "outputs": [],
   "source": [
    "def plot_wce(\n",
    "        WCE_object,\n",
    "        scenario =None,\n",
    "        HR_target = None):\n",
    "    \n",
    "    WCE_mat = WCE_object[\"WCEmat\"]\n",
    "            \n",
    "    plt.plot(np.arange(0, WCEmat.shape[1]),WCE_mat[0], c = \"black\", label = \"calculated WCE function\")\n",
    "\n",
    "    if WCE_mat.shape[0] > 1:\n",
    "        quantiles = np.quantile(WCE_mat, [0.025, 0.975], axis = 0)\n",
    "        plt.plot(np.arange(0, WCEmat.shape[1]),quantiles[0], c = \"black\", linestyle = \"--\")\n",
    "        plt.plot(np.arange(0, WCEmat.shape[1]),quantiles[1], c = \"black\", linestyle = \"--\")\n",
    "\n",
    "    \n",
    "    \n",
    "    if scenario is not None:\n",
    "        scenario_shape = get_scenario(scenario,365)[:WCEmat.shape[1]] * np.log(HR_target)\n",
    "        plt.plot((np.arange(0, WCEmat.shape[1])),scenario_shape[:WCEmat.shape[1]], c = \"red\", label = \"scenario shape\")\n",
    "    \n",
    "# vecnu\n",
    "# hr_matrix = np.exp(np.dot(WCEmat, vecnum)) / np.exp(np.dot(WCEmat, vecdenom))\n",
    "# hr =hr_matrix[0]\n",
    "# print(hr)\n",
    "# print()\n",
    "\n",
    "def HR(WCE_object, vecnum, vecdenom):\n",
    "\n",
    "    WCEmat = WCE_object[\"WCEmat\"]\n",
    "    n_bootsraps = WCEmat.shape[0]\n",
    "    HR_matrix = np.exp(np.dot(WCEmat, vecnum)) / np.exp(np.dot(WCEmat, vecdenom))\n",
    "\n",
    "    HR = [HR_matrix[0]]\n",
    "    if n_bootsraps == 1:\n",
    "        return HR\n",
    "    \n",
    "    else:\n",
    "        HR_quantiles = np.quantile(HR_matrix, [0.025, 0.975], axis = 0)\n",
    "        HR.append(HR_quantiles[0])\n",
    "        HR.append(HR_quantiles[1])\n",
    "        return HR\n"
   ]
  },
  {
   "cell_type": "code",
   "execution_count": 53,
   "metadata": {},
   "outputs": [
    {
     "data": {
      "text/plain": [
       "[1.410406636676834, 1.0135860910940306, 1.7973296594445514]"
      ]
     },
     "execution_count": 53,
     "metadata": {},
     "output_type": "execute_result"
    }
   ],
   "source": [
    "vecnum = np.ones(180)\n",
    "vecdenom = np.zeros(180)\n",
    "HR(result, vecnum, vecdenom)"
   ]
  },
  {
   "cell_type": "code",
   "execution_count": 160,
   "metadata": {},
   "outputs": [
    {
     "data": {
      "text/plain": [
       "(100, 180)"
      ]
     },
     "execution_count": 160,
     "metadata": {},
     "output_type": "execute_result"
    },
    {
     "data": {
      "image/png": "[encoded data removed]",
      "text/plain": [
       "<Figure size 640x480 with 1 Axes>"
      ]
     },
     "metadata": {},
     "output_type": "display_data"
    }
   ],
   "source": [
    "plot_wce(result, scenario = \"exponential_scenario\", HR_target = 3)\n",
    "WCEmat.shape"
   ]
  },
  {
   "cell_type": "code",
   "execution_count": 21,
   "metadata": {},
   "outputs": [
    {
     "name": "stdout",
     "output_type": "stream",
     "text": [
      "dict_keys(['hessian', 'sctest init', 'loglik init', 'loglik', 'coef', 'u', 'imat', 'means', 'knotsmat', 'std', 'SED', 'WCEmat', 'est', 'vcovmat'])\n"
     ]
    }
   ],
   "source": [
    "print(result.keys())\n"
   ]
  }
 ],
 "metadata": {
  "kernelspec": {
   "display_name": "Python 3 (ipykernel)",
   "language": "python",
   "name": "python3"
  },
  "language_info": {
   "codemirror_mode": {
    "name": "ipython",
    "version": 3
   },
   "file_extension": ".py",
   "mimetype": "text/x-python",
   "name": "python",
   "nbconvert_exporter": "python",
   "pygments_lexer": "ipython3",
   "version": "3.11.7"
  }
 },
 "nbformat": 4,
 "nbformat_minor": 2
}
