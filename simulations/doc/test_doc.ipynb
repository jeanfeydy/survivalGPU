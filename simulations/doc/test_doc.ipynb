{
 "cells": [
  {
   "cell_type": "markdown",
   "metadata": {},
   "source": [
    "# Doc for data simulation and use survival GPU  \n",
    "\n",
    "## Simulation data : "
   ]
  },
  {
   "cell_type": "code",
   "execution_count": 3,
   "metadata": {
    "vscode": {
     "languageId": "r"
    }
   },
   "outputs": [
    {
     "ename": "ERROR",
     "evalue": "Error in library(reticulate): aucun package nommé ‘reticulate’ n'est trouvé\n",
     "output_type": "error",
     "traceback": [
      "Error in library(reticulate): aucun package nommé ‘reticulate’ n'est trouvé\nTraceback:\n",
      "1. library(reticulate)"
     ]
    }
   ],
   "source": [
    "# Data simulation \n",
    "\n",
    "# source(\"weight_functions.R\")\n",
    "# source(\"simulation_parameters.R\")\n",
    "# source(\"functions_data_simulation.R\")\n",
    "\n",
    "library(reticulate)\n",
    "library(devtools)\n",
    "library(WCE)\n",
    "\n",
    "doses_list <- list(1,1.5,2,2.5,3)\n",
    "observation_time <- 365 \n",
    "n_patients = 1000\n",
    "scenario_list <- \"exponential_scenario\"\n",
    "cutoff <- 180\n",
    "HR_target <- 1.5\n",
    "\n",
    "survivalgpu = use_survivalGPU()\n",
    "\n",
    "\n"
   ]
  },
  {
   "cell_type": "code",
   "execution_count": 9,
   "metadata": {
    "vscode": {
     "languageId": "r"
    }
   },
   "outputs": [
    {
     "name": "stderr",
     "output_type": "stream",
     "text": [
      "Installation du package dans ‘/home/apoirotb/R/x86_64-pc-linux-gnu-library/4.1’\n",
      "(car ‘lib’ n'est pas spécifié)\n",
      "\n"
     ]
    }
   ],
   "source": [
    "install.packages(\"WCE\")"
   ]
  }
 ],
 "metadata": {
  "kernelspec": {
   "display_name": "R",
   "language": "R",
   "name": "ir"
  },
  "language_info": {
   "codemirror_mode": "r",
   "file_extension": ".r",
   "mimetype": "text/x-r-source",
   "name": "R",
   "pygments_lexer": "r",
   "version": "4.1.2"
  }
 },
 "nbformat": 4,
 "nbformat_minor": 2
}
