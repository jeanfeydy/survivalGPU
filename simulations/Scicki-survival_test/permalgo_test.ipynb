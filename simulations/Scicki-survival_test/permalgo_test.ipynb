{
 "cells": [
  {
   "cell_type": "code",
   "execution_count": 7,
   "metadata": {
    "vscode": {
     "languageId": "r"
    }
   },
   "outputs": [],
   "source": [
    "library(PermAlgo)"
   ]
  },
  {
   "cell_type": "code",
   "execution_count": 6,
   "metadata": {
    "vscode": {
     "languageId": "r"
    }
   },
   "outputs": [
    {
     "name": "stderr",
     "output_type": "stream",
     "text": [
      "Installation du package dans ‘/home/apoirotb/R/x86_64-pc-linux-gnu-library/4.1’\n",
      "(car ‘lib’ n'est pas spécifié)\n",
      "\n"
     ]
    }
   ],
   "source": [
    "install.packages(\"PermAlgo\")"
   ]
  },
  {
   "cell_type": "code",
   "execution_count": null,
   "metadata": {
    "vscode": {
     "languageId": "r"
    }
   },
   "outputs": [],
   "source": [
    "numSubjects = 100\n",
    "maxTime = 100\n",
    "Xmat = matrix(rnorm(numSubjects * 3), nrow = numSubjects)\n",
    "XmatNames = c(\"X1\", \"X2\", \"X3\")\n",
    "\n",
    "# eventRandom =\n",
    "# censorRandom = \n",
    "\n",
    "betas = c(0.5, 0.7, 0.3)\n",
    "\n",
    "\n",
    "\n",
    "permalgorithm(numSubjects, maxTime, Xmat, XmatNames = NULL,\n",
    "eventRandom = NULL, censorRandom = NULL, betas, groupByD = FALSE)\n",
    "\n",
    "Xmat = "
   ]
  }
 ],
 "metadata": {
  "kernelspec": {
   "display_name": "R",
   "language": "R",
   "name": "ir"
  },
  "language_info": {
   "codemirror_mode": "r",
   "file_extension": ".r",
   "mimetype": "text/x-r-source",
   "name": "R",
   "pygments_lexer": "r",
   "version": "4.1.2"
  }
 },
 "nbformat": 4,
 "nbformat_minor": 2
}
